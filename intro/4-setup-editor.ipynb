{
 "cells": [
  {
   "cell_type": "markdown",
   "metadata": {},
   "source": [
    "# How to properly set up a Code Editor for Python"
   ]
  },
  {
   "cell_type": "markdown",
   "metadata": {},
   "source": [
    "### What is a Code Editor"
   ]
  },
  {
   "cell_type": "markdown",
   "metadata": {},
   "source": [
    "A **code editor** is a program that let you write longer programs than we can\n",
    "write on the `>>>` prompt. \n",
    "\n",
    "Then we can save the programs to files (i.e. **Python modules**) and\n",
    "run them as many times as we want without writing them again.\n",
    "\n",
    "When programmers say \"editor\" they **don't mean** programs like \n",
    "_Microsoft Word_ or _LibreOffice/OpenOffice Writer_ (or worse, **Notepad**).\n",
    "\n",
    "These programs are for writing text documents, not for programming. \n",
    "\n",
    "**Programming editors don't support\n",
    "things like bigger font sizes for titles or underlining bits of text**,\n",
    "but instead they have features that are actually useful for programming,\n",
    "like **syntax highlighting**."
   ]
  },
  {
   "cell_type": "markdown",
   "metadata": {},
   "source": [
    "## Which editor?\n",
    "\n",
    "The choice of an editor is a very personal thing. There are many\n",
    "editors, and most programmers have a favorite editor that they use for\n",
    "everything and recommend to everyone.\n",
    "\n",
    "Suggested editors:\n",
    "\n",
    "- [Visual Studio Code](https://code.visualstudio.com/)\n",
    "- [Sublime Text](https://www.sublimetext.com/)\n",
    "- [Atom](https://atom.io/)\n",
    "- [Vim](https://www.vim.org/) - for shell experts 🤓\n",
    "- [emacs](https://www.gnu.org/software/emacs/) - for octopuses 🐙\n"
   ]
  },
  {
   "cell_type": "markdown",
   "metadata": {},
   "source": [
    "This list doesn't contain all editors, but these are editors that\n",
    "people often try to use.\n",
    "\n",
    "Since you should have installed [**Anaconda**](https://www.anaconda.com/distribution/) Python distribution in preparation of this tutorial, you should also have installed **Visual Studio Code**.\n",
    "\n",
    "For this reason, we will consider VSCode as the reference editor. However, please **feel free** to use the editor of your choice, or the one you feel most confident with."
   ]
  },
  {
   "cell_type": "markdown",
   "metadata": {},
   "source": [
    "## Editor or `>>>` prompt?\n",
    "\n",
    "So far we have used the `>>>` prompt for everything. But now we also\n",
    "have an editor that lets us write longer programs. So why not just\n",
    "always use the editor?\n",
    "\n",
    "The `>>>` prompt is meant to be used for experimenting with things. For\n",
    "example, if you want to know what `\"hello\" + 123` does, just open the\n",
    "prompt and run it.\n",
    "\n",
    "If you want to write something once, and then run it many times, write\n",
    "the code to a file (module). \n",
    "\n",
    "For example, if you want to make a program that asks\n",
    "the user to enter a word and then echoes it back, write a program that\n",
    "does that in a file and run it as many times as you want to.\n",
    "\n",
    "Note that if you write something like `'hello'` to the `>>>` prompt it\n",
    "echoes it back, but if you make a file that contains nothing but a\n",
    "`'hello'` it won't do anything when you run it. \n",
    "\n",
    "You need to use `print('hello')` instead when your code is in a file."
   ]
  },
  {
   "cell_type": "markdown",
   "metadata": {},
   "source": [
    "# Why would I need a \"specialised\" editor ?"
   ]
  },
  {
   "cell_type": "markdown",
   "metadata": {},
   "source": [
    "Differently from a \"normal\" editor, a \"code\" editor is a special editor specifically design to support programming activities.\n",
    "\n",
    "In code editor, you have full control of _formatting_, _syntax highlighting_, _file manager_, and so on."
   ]
  },
  {
   "cell_type": "markdown",
   "metadata": {},
   "source": [
    "![vscode](../images/editor.png)"
   ]
  },
  {
   "cell_type": "markdown",
   "metadata": {},
   "source": [
    "### Syntax Highlighting\n",
    "\n",
    "Syntax highlighting is one of the most important feature for a code editor: properly recognise the syntax of the programming language you are programming, and enable **colorful** text to emphasize the syntax.\n",
    "\n",
    "Looking at the example below, you can easily distinguish a **comment**, from a **reserved keyword**, from what is a varible name, or a string."
   ]
  },
  {
   "cell_type": "markdown",
   "metadata": {},
   "source": [
    "![syntax-highlighting](../images/syntax-highlight.png)"
   ]
  },
  {
   "cell_type": "markdown",
   "metadata": {},
   "source": [
    "## Auto-Completion\n",
    "\n",
    "In addition, more advanced code editors (like VSCode) further support programmers by suggesting what can possibly be the completion of a statement or expression.\n",
    "\n",
    "When you get use to it, it would save tons of time in writing larger programs."
   ]
  },
  {
   "cell_type": "markdown",
   "metadata": {},
   "source": [
    "![Auto-Completion](../images/auto-completion.png)"
   ]
  },
  {
   "cell_type": "markdown",
   "metadata": {},
   "source": [
    "## Last piece of advice ⚠️"
   ]
  },
  {
   "cell_type": "markdown",
   "metadata": {},
   "source": [
    "In Python programming, code formatting is **crucial**.\n",
    "\n",
    "Things like **indentation**, **spaces**, **tabulation** will make a huge difference - and you will soon realise (even the hard way).\n",
    "\n",
    "So, if you're not using an editor of the one listed above, please make sure that your editor can properly setup\n",
    "**spacing** settings, removing any **tab** and use **4 spaces** as indentation.\n",
    "\n",
    "This is **not** mandatory for the Python interpreter, but it is the general convention used."
   ]
  }
 ],
 "metadata": {
  "kernelspec": {
   "display_name": "Python 3.7 (WebValley2019)",
   "language": "python",
   "name": "webvalley19"
  },
  "language_info": {
   "codemirror_mode": {
    "name": "ipython",
    "version": 3
   },
   "file_extension": ".py",
   "mimetype": "text/x-python",
   "name": "python",
   "nbconvert_exporter": "python",
   "pygments_lexer": "ipython3",
   "version": "3.6.7"
  }
 },
 "nbformat": 4,
 "nbformat_minor": 2
}
