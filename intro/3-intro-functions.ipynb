{
 "cells": [
  {
   "cell_type": "markdown",
   "metadata": {},
   "source": [
    "# Introducing Functions"
   ]
  },
  {
   "cell_type": "markdown",
   "metadata": {},
   "source": [
    "So far, we've been using the `print` function many times, but: \"what is `print` exactly?\""
   ]
  },
  {
   "cell_type": "markdown",
   "metadata": {},
   "source": [
    "Let's see what happens if we type `print` without the `('Hello')` part."
   ]
  },
  {
   "cell_type": "markdown",
   "metadata": {},
   "source": [
    "```python\n",
    ">>> print\n",
    "<built-in function print>\n",
    "```"
   ]
  },
  {
   "cell_type": "markdown",
   "metadata": {},
   "source": [
    "As we can see, print is a function. Functions do something when they are\n",
    "**called** by typing their name and parentheses. Inside the\n",
    "parentheses, we can pass some arguments too. In `print(\"hello\")` the\n",
    "function is `print` and we give it one argument, which is `\"hello\"`.\n",
    "\n",
    "Functions are easy to understand, They simply **do something when they\n",
    "are called**. Functions run immediately when we call them, so the\n",
    "text appears on the screen right away when we run `print(something)`.\n",
    "\n",
    "Sometimes people think that doing `func = print('hello')` means that\n",
    "Python is going to print hello every time we type `func`. But **this\n",
    "is not correct**! `print('hello')` runs print right away, and if we\n",
    "type `func` later, it's not going to run `print('hello')` again."
   ]
  },
  {
   "cell_type": "markdown",
   "metadata": {},
   "source": [
    "---\n",
    "\n",
    "# Function Calls"
   ]
  },
  {
   "cell_type": "markdown",
   "metadata": {},
   "source": [
    "In the context of programming, a **function** is a named sequence of statements that performs a computation. \n",
    "\n",
    "When you define a function, you specify the name and the sequence of statements. Later, you can “call” (sometime \"invoke\") the function by name."
   ]
  },
  {
   "cell_type": "markdown",
   "metadata": {},
   "source": [
    "### Some Examples: Type Conversion Functions"
   ]
  },
  {
   "cell_type": "markdown",
   "metadata": {},
   "source": [
    "Python provides built-in functions that convert values from one type to another. \n",
    "\n",
    "The `int` function takes any value and converts it to an integer, if it can, or complains otherwise:"
   ]
  },
  {
   "cell_type": "markdown",
   "metadata": {},
   "source": [
    "```python\n",
    ">>> int('32')\n",
    "32\n",
    ">>> int('Hello')\n",
    "ValueError: invalid literal for int(): Hello\n",
    "```"
   ]
  },
  {
   "cell_type": "markdown",
   "metadata": {},
   "source": [
    "`int` can convert floating-point values to integers, but it doesn’t round off; it chops off the fraction part:"
   ]
  },
  {
   "cell_type": "markdown",
   "metadata": {},
   "source": [
    "```python\n",
    ">>> int(3.99999)\n",
    "3\n",
    ">>> int(-2.3)\n",
    "-2\n",
    "```"
   ]
  },
  {
   "cell_type": "markdown",
   "metadata": {},
   "source": [
    "`float` converts integers and strings to floating-point numbers:\n",
    "\n",
    "```python\n",
    ">>> float(32)\n",
    "32.0\n",
    ">>> float('3.14159')\n",
    "3.14159\n",
    "```"
   ]
  },
  {
   "cell_type": "markdown",
   "metadata": {},
   "source": [
    "Finally, `str` converts its argument to a string:\n",
    "\n",
    "```python\n",
    ">>> str(32)\n",
    "'32'\n",
    ">>> str(3.14159)\n",
    "'3.14159'\n",
    "```"
   ]
  },
  {
   "cell_type": "markdown",
   "metadata": {},
   "source": [
    "### Math Functions"
   ]
  },
  {
   "cell_type": "markdown",
   "metadata": {},
   "source": [
    "Python has a `math` module that provides most of the familiar mathematical functions. \n",
    "\n",
    "A **module** is a **Python file** that contains a collection of related functions (_more on this, later_)\n",
    "\n"
   ]
  },
  {
   "cell_type": "markdown",
   "metadata": {},
   "source": [
    "Before we can use the module, we have to **import** it:\n",
    "\n",
    "```python\n",
    ">>> import math\n",
    "```"
   ]
  },
  {
   "cell_type": "markdown",
   "metadata": {},
   "source": [
    "This statement creates a **module object** named `math`. \n",
    "\n",
    "If you print the module object, you get some information about it:"
   ]
  },
  {
   "cell_type": "markdown",
   "metadata": {},
   "source": [
    "```python\n",
    ">>> print math\n",
    "<module 'math' (built-in)>\n",
    "```"
   ]
  },
  {
   "cell_type": "markdown",
   "metadata": {},
   "source": [
    "The module object contains the functions and variables defined in the module. \n",
    "\n",
    "To access one of the functions, you have to specify the **name** of the module and the **name** of the function, separated by a **dot** (also known as a period). \n",
    "\n",
    "This format is called **dot notation**."
   ]
  },
  {
   "cell_type": "markdown",
   "metadata": {},
   "source": [
    "```python\n",
    ">>> ratio = signal_power / noise_power\n",
    ">>> decibels = 10 * math.log10(ratio)\n",
    ">>> radians = 0.7\n",
    ">>> height = math.sin(radians)\n",
    "```"
   ]
  },
  {
   "cell_type": "markdown",
   "metadata": {},
   "source": [
    "The first example uses `log10` to compute a signal-to-noise ratio in decibels (assuming that `signal_power` and `noise_power` variables have been already defined). \n",
    "\n",
    "The `math` module also provides `log`, which computes logarithms base `e`."
   ]
  },
  {
   "cell_type": "markdown",
   "metadata": {},
   "source": [
    "The second example finds the sine of `radians`. The name of the variable is a hint that `sin` and the other trigonometric functions (`cos`, `tan`, etc.) take arguments in radians. \n",
    "\n",
    "To convert from degrees to radians, divide by `360` and multiply by `2π`:"
   ]
  },
  {
   "cell_type": "markdown",
   "metadata": {},
   "source": [
    "```python\n",
    ">>> degrees = 45\n",
    ">>> radians = degrees / 360.0 * 2 * math.pi\n",
    ">>> math.sin(radians)\n",
    "0.707106781187\n",
    "```"
   ]
  },
  {
   "cell_type": "markdown",
   "metadata": {},
   "source": [
    "The expression `math.pi` gets the variable `pi` from the `math` module. \n",
    "\n",
    "The value of this variable is an approximation of $\\pi$, accurate to about `15` digits."
   ]
  },
  {
   "cell_type": "markdown",
   "metadata": {},
   "source": [
    "If you know your trigonometry, you can check the previous result by comparing it to the square root of two divided by two:\n",
    "\n",
    "```python\n",
    ">>> math.sqrt(2) / 2.0\n",
    "0.707106781187\n",
    "```"
   ]
  },
  {
   "cell_type": "markdown",
   "metadata": {},
   "source": [
    "# A Special function: `input()`"
   ]
  },
  {
   "cell_type": "markdown",
   "metadata": {},
   "source": [
    "Back to the previous example: `func = print('hello')`.\n",
    "We know already that this assignment does not store the\n",
    "`print('hello')` call in a variable. \n",
    "\n",
    "But what does it do then?\n",
    "\n",
    "```python\n",
    ">>> func = print('hello')\n",
    "hello\n",
    ">>> print(func)       # func is now None\n",
    "None\n",
    ">>>\n",
    "```\n",
    "\n",
    "So doing `func = print('hello')` set `func` to `None`."
   ]
  },
  {
   "cell_type": "markdown",
   "metadata": {},
   "source": [
    "\n",
    "Here's what happened, explained in more detail.\n",
    "\n",
    "**Introducing Return Values**:\n",
    "\n",
    "- When we do `func = print('hello')`, the right side is processed\n",
    "    first.\n",
    "- `print('hello')` calls the print function with the argument\n",
    "    `'hello'`.\n",
    "- The function runs. It shows the word hello.\n",
    "- The print function **returns** `None`. All functions need to return\n",
    "    something, and print returns `None` because there's no need to return\n",
    "    anything else.\n",
    "- Now the right side has been processed. `print('hello')` returned\n",
    "    None, so we can imagine we have None instead of `print('hello')`\n",
    "    there, and the assignment now looks like `func = None`.\n",
    "- `func` is now None.\n",
    "\n",
    "Now we understand what **a return value** is. When we call the\n",
    "function, Python \"replaces\" `function(arguments)` with whatever the\n",
    "function returns."
   ]
  },
  {
   "cell_type": "markdown",
   "metadata": {},
   "source": [
    "Calling a function without assigning the return value to anything (e.g.\n",
    "`print('hello')` instead of `func = print('hello')`) simply throws away\n",
    "the return value. The interactive `>>>` prompt doesn't echo the return\n",
    "value back because it's None.\n",
    "\n",
    "Of course, `func = print('hello')` is useless compared to `print('hello')`\n",
    "because the print function always returns None and we can do `func = None`\n",
    "without any printing."
   ]
  },
  {
   "cell_type": "markdown",
   "metadata": {},
   "source": [
    "Not all functions return None. \n",
    "\n",
    "The `input` function can be used for getting a string interactively from the user.\n",
    "\n",
    "```python\n",
    ">>> result = input(\"Enter something:\")\n",
    "Enter something:hello\n",
    ">>> result\n",
    "'hello'\n",
    ">>>\n",
    "```\n",
    "\n",
    "`input(\"Enter something:\")` showed the text `Enter something:` on the\n",
    "screen and waited for the user to type something. \n",
    "\n",
    "For example, if you type `\"hello\"` and press Enter, the `input` function returns \n",
    "the value you typed as a string, which is then assigned to the variable `result`.\n",
    "\n",
    "Usually we want to add a space after the `:`, like this:\n",
    "\n",
    "```python\n",
    ">>> result = input(\"Enter something: \")  # now there's space between : and where you type\n",
    "Enter something: hello\n",
    ">>>\n",
    "```"
   ]
  },
  {
   "cell_type": "markdown",
   "metadata": {
    "slideshow": {
     "slide_type": "subslide"
    }
   },
   "source": [
    "#### `input` general syntax\n",
    "\n",
    "The general case for accepting input looks something like this:"
   ]
  },
  {
   "cell_type": "markdown",
   "metadata": {
    "slideshow": {
     "slide_type": "fragment"
    }
   },
   "source": [
    "```python \n",
    ">>> # Get some input from the user.\n",
    ">>> variable = input('Please enter a value: ')\n",
    ">>> # Do something with the value that was entered.\n",
    "```"
   ]
  },
  {
   "cell_type": "markdown",
   "metadata": {
    "slideshow": {
     "slide_type": "fragment"
    }
   },
   "source": [
    "You need a variable that will hold whatever value the user enters, and you need a message that will be displayed to the user."
   ]
  },
  {
   "cell_type": "markdown",
   "metadata": {},
   "source": [
    "# Composition"
   ]
  },
  {
   "cell_type": "markdown",
   "metadata": {},
   "source": [
    "Ao far, we have looked at the elements of a program—variables, expressions, and statements in isolation, without talking about how to **combine** them.\n",
    "\n",
    "One of the most useful features of programming languages is their ability to take small building blocks and compose them. \n",
    "\n",
    "For example, the argument of a function can be any kind of expression, including arithmetic operators:"
   ]
  },
  {
   "cell_type": "markdown",
   "metadata": {},
   "source": [
    "```python\n",
    ">>> x = math.sin(degrees / 360.0 * 2 * math.pi)\n",
    "```"
   ]
  },
  {
   "cell_type": "markdown",
   "metadata": {},
   "source": [
    "And even function calls:\n",
    "\n",
    "```python\n",
    ">>> x = math.exp(math.log(x+1))\n",
    "```"
   ]
  },
  {
   "cell_type": "markdown",
   "metadata": {},
   "source": [
    "Almost anywhere you can put a value, you can put an arbitrary expression, with one exception: the left side of an assignment statement has to be a variable name. "
   ]
  },
  {
   "cell_type": "markdown",
   "metadata": {},
   "source": [
    "```python\n",
    ">>> minutes = hours * 60                 # right\n",
    ">>> hours * 60 = minutes                 # wrong!\n",
    "SyntaxError: can't assign to operator\n",
    "```"
   ]
  },
  {
   "cell_type": "markdown",
   "metadata": {},
   "source": [
    "---\n",
    "\n",
    "So far we have been running our script in **interactive** mode, in other words we've been using the Python iterpreter to write and execute every single line of code in an interactive fashion.\n",
    "\n",
    "Now we will move towards the **script** mode, in which we will start by writing our own Python module (i.e. file) and then execute it. In this module we will implement our own defined **functions** - and will learn how to do it.\n",
    "\n",
    "To do so, we should first set up our **Python editor**."
   ]
  }
 ],
 "metadata": {
  "kernelspec": {
   "display_name": "Python 3.7 (WebValley2019)",
   "language": "python",
   "name": "webvalley19"
  },
  "language_info": {
   "codemirror_mode": {
    "name": "ipython",
    "version": 3
   },
   "file_extension": ".py",
   "mimetype": "text/x-python",
   "name": "python",
   "nbconvert_exporter": "python",
   "pygments_lexer": "ipython3",
   "version": "3.6.7"
  }
 },
 "nbformat": 4,
 "nbformat_minor": 2
}
