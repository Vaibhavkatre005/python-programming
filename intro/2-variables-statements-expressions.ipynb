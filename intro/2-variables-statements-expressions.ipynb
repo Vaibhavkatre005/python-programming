{
 "cells": [
  {
   "cell_type": "markdown",
   "metadata": {},
   "source": [
    "# Variables, Expressions, and Statements"
   ]
  },
  {
   "cell_type": "markdown",
   "metadata": {},
   "source": [
    "## Variables\n",
    "\n",
    "Variables are easy to understand. They simply **point to values**.\n",
    "\n",
    "```python\n",
    ">>> a = 1   # create a variable called a that points to 1\n",
    ">>> b = 2   # create another variable\n",
    ">>> a       # get the value that the variable points to\n",
    "1\n",
    ">>> b\n",
    "2\n",
    "```\n",
    "\n",
    "Let's draw a diagram of these variables.\n",
    "\n",
    "![Variable diagram](../images/variables1.png)\n",
    "\n",
    "We can also change the value of a variable after setting it.\n",
    "\n",
    "```python\n",
    ">>> a = 2    # make a point to 2 instead of 1\n",
    ">>> a\n",
    "2\n",
    "```\n",
    "\n",
    "So now our diagram looks like this:\n",
    "\n",
    "![Variable diagram](../images/variables2.png)\n",
    "\n",
    "Setting a variable to another variable gets the value of the other\n",
    "variable and sets the first variable to point to that value.\n",
    "\n",
    "```python\n",
    ">>> a = 1\n",
    ">>> b = a  # this makes b point to 1, not a\n",
    ">>> a = 5\n",
    ">>> b      # b didn't change when a changed\n",
    "1\n",
    "```"
   ]
  },
  {
   "cell_type": "markdown",
   "metadata": {
    "slideshow": {
     "slide_type": "subslide"
    }
   },
   "source": [
    "<a name='naming_rules'></a>Naming rules\n",
    "---\n",
    "- Variables can only contain letters, numbers, and underscores. Variable names can start with a letter or an underscore, but can not start with a number.\n",
    "- Spaces are not allowed in variable names, so we use underscores instead of spaces. For example, use student_name instead of \"student name\".\n",
    "- You cannot use [Python keywords](http://docs.python.org/3/reference/lexical_analysis.html#keywords) as variable names.\n",
    "- Variable names should be descriptive, without being too long. For example `mc_wheels` is better than just `wheels`, and `number_of_wheels_on_a_motorycle`.\n",
    "- Be careful about using the lowercase letter l and the uppercase letter O in places where they could be confused with the numbers 1 and 0."
   ]
  },
  {
   "cell_type": "markdown",
   "metadata": {
    "slideshow": {
     "slide_type": "subslide"
    }
   },
   "source": [
    "<a name='name_error'></a>NameError\n",
    "---\n",
    "There is one common error when using variables, that you will almost certainly encounter at some point. Take a look at this code, and see if you can figure out why it causes an error."
   ]
  },
  {
   "cell_type": "markdown",
   "metadata": {
    "slideshow": {
     "slide_type": "fragment"
    }
   },
   "source": [
    "```python\n",
    ">>> message = \"Thank you for sharing Python with the world, Guido!\"\n",
    ">>> print(mesage)\n",
    "```\n",
    "```\n",
    "---------------------------------------------------------------------------\n",
    "NameError                                 Traceback (most recent call last)\n",
    "      1 message = \"Thank you for sharing Python with the world, Guido!\"\n",
    "----> 2 print(mesage)\n",
    "\n",
    "NameError: name 'mesage' is not defined\n",
    "```"
   ]
  },
  {
   "cell_type": "markdown",
   "metadata": {
    "slideshow": {
     "slide_type": "fragment"
    }
   },
   "source": [
    "Let's look through this error message. First, we see it is a NameError. Then we see the file that caused the error, and a green arrow shows us what line in that file caused the error. Then we get some more specific feedback, that \"name 'mesage' is not defined\"."
   ]
  },
  {
   "cell_type": "markdown",
   "metadata": {
    "slideshow": {
     "slide_type": "subslide"
    }
   },
   "source": [
    "You may have already spotted the source of the error. We spelled message two different ways. Python does not care whether we use the variable name \"message\" or \"mesage\". Python only cares that the spellings of our variable names match every time we use them.\n",
    "\n",
    "This is pretty important, because it allows us to have a variable \"name\" with a single name in it, and then another variable \"names\" with a bunch of names in it."
   ]
  },
  {
   "cell_type": "markdown",
   "metadata": {
    "slideshow": {
     "slide_type": "subslide"
    }
   },
   "source": [
    "We can fix **NameErrors** by making sure all of our variable names are spelled consistently."
   ]
  },
  {
   "cell_type": "markdown",
   "metadata": {
    "slideshow": {
     "slide_type": "fragment"
    }
   },
   "source": [
    "```python\n",
    ">>> message = \"Thank you for sharing Python with the world, Guido!\"\n",
    ">>> print(message)\n",
    "```\n",
    "```\n",
    "Thank you for sharing Python with the world, Guido!\n",
    "```"
   ]
  },
  {
   "cell_type": "markdown",
   "metadata": {
    "slideshow": {
     "slide_type": "fragment"
    }
   },
   "source": [
    "In case you didn't know [Guido](http://en.wikipedia.org/wiki/Guido_van_Rossum) [van Rossum](http://www.python.org/~guido/) created the Python language over 20 years ago, and he is considered Python's [Benevolent Dictator for Life](http://en.wikipedia.org/wiki/Benevolent_Dictator_for_Life). \n",
    "\n",
    "Guido still signs off on all major changes to the core Python language."
   ]
  },
  {
   "cell_type": "markdown",
   "metadata": {},
   "source": [
    "## Exercises"
   ]
  },
  {
   "cell_type": "markdown",
   "metadata": {},
   "source": [
    "> **Ex 1.4**: Run the Python interpreter (hint: open Unix terminal and type `python`). \n",
    "> Store your own version of the message \"Hello World\" in a variable, and print it. "
   ]
  },
  {
   "cell_type": "markdown",
   "metadata": {},
   "source": [
    "> **Ex. 1.5**: One variable, two messages:\n",
    "> - Store a message in a variable, and then print that message.\n",
    "> - Store a new message in the same variable, and then print that new message."
   ]
  },
  {
   "cell_type": "markdown",
   "metadata": {},
   "source": [
    "---"
   ]
  },
  {
   "cell_type": "markdown",
   "metadata": {},
   "source": [
    "# Values and Types"
   ]
  },
  {
   "cell_type": "markdown",
   "metadata": {},
   "source": [
    "A **value** is one of the basic things a program works with, like a letter or a number. \n",
    "The values we have seen so far are `1`, `2`, and `'Hello, World!'`.\n",
    "\n",
    "These values belong to different types: `2` is an **integer**, and `'Hello, World!'` is a **string**, so-called because it contains a “string” of letters. \n",
    "\n",
    "You (and the interpreter) can identify strings because they are enclosed in quotation marks.\n",
    "\n",
    "If you are not sure what type a value has, the interpreter can tell you.\n",
    "\n",
    "```python \n",
    ">>> type('Hello, World!')\n",
    "<type 'str'>\n",
    ">>> type(17)\n",
    "<type 'int'>\n",
    "```"
   ]
  },
  {
   "cell_type": "markdown",
   "metadata": {},
   "source": [
    "Not surprisingly, strings belong to the type `str` and integers belong to the type `int`. \n",
    "\n",
    "Less obviously, numbers with a decimal point belong to a type called `float`, because these numbers are represented in a format called **floating-point**."
   ]
  },
  {
   "cell_type": "markdown",
   "metadata": {},
   "source": [
    "```python\n",
    ">>> type(3.2)\n",
    "<type 'float'>\n",
    "```"
   ]
  },
  {
   "cell_type": "markdown",
   "metadata": {},
   "source": [
    "What about values like `'17'` and `'3.2'`? They look like numbers, but they are in quotation marks like strings."
   ]
  },
  {
   "cell_type": "markdown",
   "metadata": {},
   "source": [
    "```python\n",
    ">>> type('17')\n",
    "<type 'str'>\n",
    ">>> type('3.2')\n",
    "<type 'str'>\n",
    "```    "
   ]
  },
  {
   "cell_type": "markdown",
   "metadata": {},
   "source": [
    "### A bit more on Strings"
   ]
  },
  {
   "cell_type": "markdown",
   "metadata": {
    "slideshow": {
     "slide_type": "subslide"
    }
   },
   "source": [
    "#### Single and double quotes\n",
    "---\n",
    "Strings are contained by either single or double quotes."
   ]
  },
  {
   "cell_type": "markdown",
   "metadata": {
    "slideshow": {
     "slide_type": "fragment"
    }
   },
   "source": [
    "```python\n",
    ">>> my_string = \"This is a double-quoted string.\"\n",
    ">>> my_string = 'This is a single-quoted string.'\n",
    "```"
   ]
  },
  {
   "cell_type": "markdown",
   "metadata": {
    "slideshow": {
     "slide_type": "subslide"
    }
   },
   "source": [
    "This lets us make strings that contain quotations."
   ]
  },
  {
   "cell_type": "markdown",
   "metadata": {
    "slideshow": {
     "slide_type": "fragment"
    }
   },
   "source": [
    "```python\n",
    ">>> quote = \"Linus Torvalds once said, 'Any program is only as good as it is useful.'\"\n",
    "```"
   ]
  },
  {
   "cell_type": "markdown",
   "metadata": {},
   "source": [
    "#### Multiline Strings\n",
    "\n",
    "In case we need to create a multiline string, there is the **triple-quote** to the rescue:\n",
    "`'''`"
   ]
  },
  {
   "cell_type": "markdown",
   "metadata": {},
   "source": [
    "```python\n",
    ">>> multiline_string = '''This is a string where I \n",
    "can confortably write on multiple lines\n",
    "without worring about to use the escape character \"\\\\\" as in\n",
    "the previsou example. \n",
    "As you'll see, the original string formatting is preserved.\n",
    "'''\n",
    "```"
   ]
  },
  {
   "cell_type": "markdown",
   "metadata": {},
   "source": [
    "```python\n",
    ">>> print(multiline_string)\n",
    "```\n",
    "```\n",
    "This is a string where I \n",
    "can confortably write on multiple lines\n",
    "without worrynng about to use the escape character \"\\\" as in\n",
    "the previsou example. \n",
    "As you'll see, the original string formatting is preserved.\n",
    "```"
   ]
  },
  {
   "cell_type": "markdown",
   "metadata": {},
   "source": [
    "## Booleans\n",
    "\n",
    "There are two Boolean values, `True` and `False`. \n",
    "\n",
    "In Python, and in many other programming languages, `=` is assigning and `==` is comparing.\n",
    "\n",
    "`a = 1` sets a to 1, and `a == 1` checks if a equals 1.\n",
    "\n",
    "```python\n",
    ">>> a = 1\n",
    ">>> a == 1\n",
    "True\n",
    ">>> a = 2\n",
    ">>> a == 1\n",
    "False\n",
    ">>>\n",
    "```\n",
    "\n",
    "`a == 1` is the same as `(a == 1) == True`, but `a == 1` is more\n",
    "readable, so most of the time we shouldn't write `== True` anywhere.\n",
    "\n",
    "```python\n",
    ">>> a = 1\n",
    ">>> a == 1\n",
    "True\n",
    ">>> (a == 1) == True\n",
    "True\n",
    ">>> a = 2\n",
    ">>> a == 1\n",
    "False\n",
    ">>> (a == 1) == True\n",
    "False\n",
    ">>>\n",
    "```"
   ]
  },
  {
   "cell_type": "markdown",
   "metadata": {},
   "source": [
    "## None\n",
    "\n",
    "`None` is Python's \"nothing\" value. It behaves just like any other value,\n",
    "and it's often used as a default value for different kinds of things.\n",
    "\n",
    "Right now it might seem useless but we'll find a bunch of ways to use\n",
    "`None` later.\n",
    "\n",
    "None's behavior on the interactive prompt might be a bit confusing at\n",
    "first:\n",
    "\n",
    "```python\n",
    ">>> thingy = None\n",
    ">>> thingy\n",
    ">>>\n",
    "```\n",
    "\n",
    "That was weird! We set thingy to None, but typing `thingy` didn't echo\n",
    "back `None`.\n",
    "\n",
    "This is because the prompt never echoes back `None`. That is handy,\n",
    "because many things result in `None`, and it would be annoying to see\n",
    "None coming up all the time.\n",
    "\n",
    "If we want to see a None on the interactive prompt, we can use print.\n",
    "\n",
    "```python\n",
    ">>> print(thingy)\n",
    "None\n",
    ">>>\n",
    "```"
   ]
  },
  {
   "cell_type": "markdown",
   "metadata": {},
   "source": [
    "# Operators and Operands"
   ]
  },
  {
   "cell_type": "markdown",
   "metadata": {},
   "source": [
    "**Operators** are special symbols that represent computations like addition and multiplication. \n",
    "The values the operator is applied to are called **operands**."
   ]
  },
  {
   "cell_type": "markdown",
   "metadata": {},
   "source": [
    "The operators `+`, `-`, `*`, `/` and `**` perform **addition**, **subtraction**, **multiplication**, **division** and **exponentiation**, respectively."
   ]
  },
  {
   "cell_type": "markdown",
   "metadata": {},
   "source": [
    "**Examples:**\n",
    "\n",
    "```\n",
    "20 + 32\n",
    "hour - 1\n",
    "hour * 60 + minute\n",
    "minute / 60\n",
    "5 ** 2\n",
    "(5+9)*(15-7)\n",
    "```"
   ]
  },
  {
   "cell_type": "markdown",
   "metadata": {},
   "source": [
    "**Note**: In some other languages, `^` is used for exponentiation, but in Python it is a bitwise operator called **XOR**. \n",
    "\n",
    "I won’t cover bitwise operators here, but you can read about them at http://wiki.python.org/moin/BitwiseOperators."
   ]
  },
  {
   "cell_type": "markdown",
   "metadata": {},
   "source": [
    "## Comparing operators\n",
    "\n",
    "So far we've used `==`, but there are other operators also. This list\n",
    "probably looks awfully long, but it's actually quite easy to learn.\n",
    "\n",
    "| Usage     | Description                       | True examples         |\n",
    "|-----------|-----------------------------------|-----------------------|\n",
    "| `a == b`  | a is equal to b                   | `1 == 1`              |\n",
    "| `a != b`  | a is not equal to b               | `1 != 2`              |\n",
    "| `a > b`   | a is greater than b               | `2 > 1`               |\n",
    "| `a >= b`  | a is greater than or equal to b   | `2 >= 1`, `1 >= 1`    |\n",
    "| `a < b`   | a is less than b                  | `1 < 2`               |\n",
    "| `a <= b`  | a is less than or equal to b      | `1 <= 2`, `1 <= 1`    |\n",
    "\n",
    "We can also combine multiple comparisons. This table assumes that a and\n",
    "b are Booleans.\n",
    "\n",
    "| Usage     | Description                               | True example                      |\n",
    "|-----------|-------------------------------------------|-----------------------------------|\n",
    "| `a and b` | a is True and b is True                   | `1 == 1 and 2 == 2`               |\n",
    "| `a or b`  | a is True, b is True or they're both True | `False or 1 == 1`, `True or True` |\n",
    "\n",
    "`not` can be used for negations. If `value` is True, `not value` is\n",
    "False, and if `value` is False, `not value` is True.\n",
    "\n",
    "There's also `is`, but don't use it instead of `==` unless you know\n",
    "what you are doing. We'll learn more about it later."
   ]
  },
  {
   "cell_type": "markdown",
   "metadata": {},
   "source": [
    "## Order of Operations"
   ]
  },
  {
   "cell_type": "markdown",
   "metadata": {},
   "source": [
    "When more than one operator appears in an expression, the order of evaluation depends on the **rules of precedence**. \n",
    "\n",
    "For mathematical operators, Python follows mathematical convention. The acronym **PEMDAS** is a useful way to remember the rules:\n",
    "\n",
    "- Parentheses have the highest precedence and can be used to force an expression to evaluate in the order you want. Since expressions in parentheses are evaluated first, `2 * (3-1)` is `4`, and `(1+1)**(5-2)` is `8`. You can also use parentheses to make an expression easier to read, as in (minute * 100) / 60, even if it doesn’t change the result.\n",
    "\n",
    "- Exponentiation has the next highest precedence, so `2**1+1` is `3`, not `4`, and `3*1**3` is `3`, not `27`.\n",
    "\n",
    "- Multiplication and Division have the same precedence, which is higher than Addition and Subtraction, which also have the same precedence. So `2*3-1` is `5`, not `4`, and `6+4/2` is `8`, not `5`.\n",
    "\n",
    "- Operators with the same precedence are evaluated from left to right (except exponentiation). So in the expression `degrees / 2 * pi`, the division happens first and the result is multiplied by `pi`. To divide by `2π`, you can use parentheses or write `degrees / 2 / pi`.\n"
   ]
  },
  {
   "cell_type": "markdown",
   "metadata": {},
   "source": [
    "I don’t work very hard to remember rules of precedence for other operators. If I can’t tell by looking at the expression, I use parentheses to make it obvious."
   ]
  },
  {
   "cell_type": "markdown",
   "metadata": {},
   "source": [
    "### String Operations"
   ]
  },
  {
   "cell_type": "markdown",
   "metadata": {},
   "source": [
    "In general, you **can’t** perform mathematical operations on strings, even if the strings look like numbers, so the following are illegal:\n",
    "\n",
    "```\n",
    "'2'-'1'    'eggs'/'easy'    'third'*'a charm'\n",
    "```"
   ]
  },
  {
   "cell_type": "markdown",
   "metadata": {},
   "source": [
    "The `+` operator works with strings, but it might not do what you expect: it performs **concatenation**, which means joining the strings by linking them end-to-end. For example:\n",
    "\n",
    "```python\n",
    ">>> first = 'throat'\n",
    ">>> second = 'warbler'\n",
    ">>> print (first + second)\n",
    "throatwarbler\n",
    "```"
   ]
  },
  {
   "cell_type": "markdown",
   "metadata": {},
   "source": [
    "The `*` operator also works on strings; it performs **repetition**. For example, `'Spam'*3` is\n",
    "`'SpamSpamSpam'`. \n",
    "\n",
    "If one of the operands is a string, the other has to be an **integer**."
   ]
  },
  {
   "cell_type": "markdown",
   "metadata": {},
   "source": [
    "This use of `+` and `*` makes sense by analogy with addition and multiplication. \n",
    "\n",
    "Just as `4*3` is equivalent to `4+4+4`, we expect `'Spam'*3` to be the same as `'Spam'+'Spam'+'Spam'`, and it is. \n",
    "\n",
    "On the other hand, there is a significant way in which string concatenation and repetition are different from integer addition and multiplication. \n",
    "\n",
    "**Can you think of a property that addition has that string concatenation does not?**"
   ]
  },
  {
   "cell_type": "markdown",
   "metadata": {},
   "source": [
    "### Floating-Point Operations"
   ]
  },
  {
   "cell_type": "markdown",
   "metadata": {
    "slideshow": {
     "slide_type": "subslide"
    }
   },
   "source": [
    "Floating-point numbers refer to any number with a decimal point. \n",
    "\n",
    "Most of the time, you can think of floating point numbers as decimals, and they will behave as you expect them to."
   ]
  },
  {
   "cell_type": "markdown",
   "metadata": {
    "slideshow": {
     "slide_type": "fragment"
    }
   },
   "source": [
    "```python\n",
    ">>> print(0.1+0.1)\n",
    "0.2\n",
    "```"
   ]
  },
  {
   "cell_type": "markdown",
   "metadata": {
    "slideshow": {
     "slide_type": "subslide"
    }
   },
   "source": [
    "However, sometimes you will get an answer with an unexpectly long decimal part:"
   ]
  },
  {
   "cell_type": "markdown",
   "metadata": {
    "slideshow": {
     "slide_type": "fragment"
    }
   },
   "source": [
    "```python\n",
    ">>> print(0.1+0.2)\n",
    "0.30000000000000004\n",
    "```"
   ]
  },
  {
   "cell_type": "markdown",
   "metadata": {
    "slideshow": {
     "slide_type": "subslide"
    }
   },
   "source": [
    "This happens because of the way computers represent numbers internally; this has nothing to do with Python itself. \n",
    "\n",
    "Basically, we are used to working in powers of ten, where one tenth plus two tenths is just three tenths. \n",
    "\n",
    "But computers work in powers of **two**. \n",
    "\n",
    "So your computer has to represent `0.1` in a power of two, and then `0.2` as a power of two, and express their sum as a power of two. There is no exact representation for `0.3` in powers of two, and we see that in the answer to `0.1+0.2`.\n",
    "\n",
    "Python tries to hide this kind of stuff when possible. \n",
    "\n",
    "Don't worry about it much for now; just don't be surprised by it, and know that we will learn to clean up our results a little later on."
   ]
  },
  {
   "cell_type": "markdown",
   "metadata": {
    "slideshow": {
     "slide_type": "subslide"
    }
   },
   "source": [
    "You can also get the same kind of result with other operations."
   ]
  },
  {
   "cell_type": "markdown",
   "metadata": {
    "slideshow": {
     "slide_type": "fragment"
    }
   },
   "source": [
    "```python\n",
    ">>> print(3*0.1)\n",
    "0.30000000000000004\n",
    "```"
   ]
  },
  {
   "cell_type": "markdown",
   "metadata": {},
   "source": [
    "#### Further Readings:\n",
    "\n",
    "**The `decimal` to the rescue**\n",
    "\n",
    "The `decimal` module provides support for fast correctly-rounded decimal floating point arithmetic. It offers several advantages over the float datatype.\n",
    "For Example:\n",
    "\n",
    "* Decimal “is based on a floating-point model which was designed with people in mind, and necessarily has a paramount guiding principle – computers must provide an arithmetic that works in the same way as the arithmetic that people learn at school.” – excerpt from the decimal arithmetic specification.\n",
    "\n",
    "\n",
    "* Decimal numbers can be represented exactly. In contrast, numbers like `1.1` and `2.2` do not have exact representations in binary floating point. End users typically would not expect `1.1 + 2.2` to display as `3.3000000000000003` as it does with binary floating point.\n",
    "\n",
    "\n",
    "* The exactness carries over into arithmetic. In decimal floating point, `0.1 + 0.1 + 0.1 - 0.3` is exactly equal to zero. In binary floating point, the result is `5.5511151231257827e-017`. While near to zero, the differences prevent reliable equality testing and differences can accumulate. For this reason, decimal is preferred in accounting applications which have strict equality invariants.\n",
    "\n",
    "\n",
    "* Unlike hardware based binary floating point, the decimal module has a user alterable precision (defaulting to `28` places) which can be as large as needed for a given problem\n",
    "\n",
    "\n",
    "* The module design is centered around three concepts: the decimal number, the context for arithmetic, and signals."
   ]
  },
  {
   "cell_type": "markdown",
   "metadata": {},
   "source": [
    "### See Also\n",
    "\n",
    "* [What Every Computer Scientist Should Know About Floating-Point Arithmetic](http://docs.oracle.com/cd/E19957-01/806-3568/ncg_goldberg.html)\n",
    "* [`decimal` module](https://docs.python.org/3/library/decimal.html)\n",
    "\n"
   ]
  },
  {
   "cell_type": "markdown",
   "metadata": {
    "slideshow": {
     "slide_type": "slide"
    }
   },
   "source": [
    "<a name='exercises_numbers'></a>Exercises\n",
    "---\n",
    "> **Ex: Arithmetic**\n",
    "> Write a program that prints out the results of at least one calculation for each of the basic operations: addition, subtraction, \n",
    "> multiplication, division, and exponents.\n",
    "\n",
    "> **Ex: Order of Operations**\n",
    "> - Find a calculation whose result depends on the order of operations.\n",
    "> - Print the result of this calculation using the standard order of operations.\n",
    "> - Use parentheses to force a nonstandard order of operations. Print the result of this calculation."
   ]
  },
  {
   "cell_type": "markdown",
   "metadata": {},
   "source": [
    "---"
   ]
  },
  {
   "cell_type": "markdown",
   "metadata": {
    "slideshow": {
     "slide_type": "slide"
    }
   },
   "source": [
    "<a name='comments'></a>Comments\n",
    "===\n",
    "As you begin to write more complicated code, you will have to spend more time thinking about how to code solutions to the problems you want to solve. Once you come up with an idea, you will spend a fair amount of time troubleshooting your code, and revising your overall approach.\n",
    "\n",
    "For this reason, it is a good idea to add notes to your programs to explain in natural language what the program is doing. \n",
    "These notes are called comments, and they start with the `#` symbol:"
   ]
  },
  {
   "cell_type": "markdown",
   "metadata": {},
   "source": [
    "```python\n",
    ">>> # compute the percentage of the hour that has elapsed\n",
    ">>> percentage = (minute * 100) / 60\n",
    "```"
   ]
  },
  {
   "cell_type": "markdown",
   "metadata": {},
   "source": [
    "In this case, the comment appears on a line by itself. You can also put comments at the\n",
    "end of a line:\n",
    "```python\n",
    ">>> percentage = (minute * 100) / 60 # percentage of an hour\n",
    "```"
   ]
  },
  {
   "cell_type": "markdown",
   "metadata": {},
   "source": [
    "Everything from the `#` to the end of the line is ignored—it has no effect on the program.\n",
    "\n",
    "Comments are most useful when they document non-obvious features of the code. It is reasonable to assume that the reader can figure out **what** the code does; it is much more useful to explain **why**."
   ]
  },
  {
   "cell_type": "markdown",
   "metadata": {},
   "source": [
    "This comment is redundant with the code and useless:\n",
    "\n",
    "```python\n",
    "v = 5 # assign 5 to v\n",
    "```\n",
    "\n",
    "This comment contains useful information that is not in the code:\n",
    "\n",
    "```python\n",
    "v = 5 # velocity in meters/second.\n",
    "```"
   ]
  },
  {
   "cell_type": "markdown",
   "metadata": {
    "slideshow": {
     "slide_type": "subslide"
    }
   },
   "source": [
    "<a name='good_comments'></a>What makes a good comment?\n",
    "---\n",
    "- It is short and to the point, but a complete thought. Most comments should be written in complete sentences.\n",
    "- It explains your thinking, so that when you return to the code later you will understand how you were approaching the problem.\n",
    "- It explains your thinking, so that others who work with your code will understand your overall approach to a problem.\n",
    "- It explains particularly difficult sections of code in detail."
   ]
  },
  {
   "cell_type": "markdown",
   "metadata": {
    "slideshow": {
     "slide_type": "subslide"
    }
   },
   "source": [
    "<a name='when_comments'></a>When should you write a comment?\n",
    "---\n",
    "- When you have to think about code before writing it.\n",
    "- When you are likely to forget later exactly how you were approaching a problem.\n",
    "- When there is more than one way to solve a problem.\n",
    "- When others are unlikely to anticipate your way of thinking about a problem.\n",
    "\n",
    "Writing good comments is one of the clear signs of a good programmer. If you have any real interest in taking programming seriously, start using comments now. You will see them throughout the examples in these notebooks."
   ]
  },
  {
   "cell_type": "markdown",
   "metadata": {},
   "source": [
    "---"
   ]
  },
  {
   "cell_type": "markdown",
   "metadata": {},
   "source": [
    "# Exercises"
   ]
  },
  {
   "cell_type": "markdown",
   "metadata": {},
   "source": [
    "> **Ex 2.1**: Assume that we execute the following assignment statements:\n",
    "> ```\n",
    "> width = 17\n",
    "> height = 12.0\n",
    "> delimiter = '.'\n",
    "> ```\n",
    "> For each of the following expressions, write the value of the expression and the type (of the value of the expression).\n",
    "> 1. `width/2`\n",
    "> 2. `width/2.0`\n",
    "> 3. `height/3`\n",
    "> 4. `1+2* 5`\n",
    "> 5. `delimiter * 5`\n",
    "> \n",
    "> Use the Python interpreter to check your answers.\n"
   ]
  },
  {
   "cell_type": "markdown",
   "metadata": {},
   "source": [
    "> **Ex 2.2: Practice using the Python interpreter as a calculator:\n",
    "> 1. The volume of a sphere with radius `r` is $\\frac{4}{3} \\pi r^3$. \n",
    "> What is the volume of a sphere with radius 5? Hint: `392.7` is wrong!\n",
    "> \n",
    "> 2. Suppose the cover price of a book is `$24.95`, but bookstores get a `40%` discount.\n",
    "> Shipping costs `$3` for the first copy and `75` cents for each additional copy. \n",
    "> What is the total wholesale cost for `60` copies?\n",
    "> \n",
    "> 3. If I leave my house at `6:52am` and run `1` mile at an easy pace (`8:15` per mile), \n",
    "> then `3` miles at tempo (`7:12` per mile) and `1` mile at easy pace again, \n",
    "> what time do I get home for breakfast?\n"
   ]
  }
 ],
 "metadata": {
  "kernelspec": {
   "display_name": "Python 3.7 (WebValley2019)",
   "language": "python",
   "name": "webvalley19"
  },
  "language_info": {
   "codemirror_mode": {
    "name": "ipython",
    "version": 3
   },
   "file_extension": ".py",
   "mimetype": "text/x-python",
   "name": "python",
   "nbconvert_exporter": "python",
   "pygments_lexer": "ipython3",
   "version": "3.6.7"
  }
 },
 "nbformat": 4,
 "nbformat_minor": 2
}
