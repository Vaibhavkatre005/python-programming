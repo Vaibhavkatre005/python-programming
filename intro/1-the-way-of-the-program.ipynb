{
 "cells": [
  {
   "cell_type": "markdown",
   "metadata": {},
   "source": [
    "_(This Chapter has been adapted from the book [\"Thinking in Python\"](https://greenteapress.com/wp/think-python/), by Allen B. Downey)_"
   ]
  },
  {
   "cell_type": "markdown",
   "metadata": {},
   "source": [
    "The goal of this tutorial is to teach you to think like a **computer scientist**. \n",
    "\n",
    "This way of thinking combines some of the best features of mathematics, engineering, and natural science.\n",
    "\n",
    "- Like mathematicians, computer scientists use formal languages to denote ideas (specifically computations). \n",
    "- Like engineers, they design things, assembling components into systems and evaluating tradeoffs among alternatives. \n",
    "- Like scientists, they observe the behavior of complex systems, form hypotheses, and test predictions.\n",
    "\n",
    "The single most important skill for a computer scientist is **problem solving**. \n",
    "\n",
    "Problem solving means the ability to formulate problems, think creatively about solutions, and \n",
    "express a solution clearly and accurately. \n",
    "\n",
    "As it turns out, the process of learning to program is an excellent opportunity to practice problem-solving skills. \n",
    "\n",
    "That’s why this chapter is called, “The way of the program.”\n",
    "On one level, you will be learning to program, a useful skill by itself. On another level, you will use programming as a means to an end. \n",
    "As we go along, that end will become clearer."
   ]
  },
  {
   "cell_type": "markdown",
   "metadata": {},
   "source": [
    "# The Python Programming Language"
   ]
  },
  {
   "cell_type": "markdown",
   "metadata": {},
   "source": [
    "The programming language you will learn is Python. Python is an example of a **high-level** language; \n",
    "other high-level languages you might have heard of are C, C++, Perl, and Java.\n",
    "\n",
    "There are also **low-level languages**, sometimes referred to as “machine languages” or “assembly languages.”\n",
    "Loosely speaking, computers can only run programs written in low-level languages. \n",
    "So programs written in a high-level language have to be processed before they can run. \n",
    "This extra processing takes some time, which is a small disadvantage of high-level languages.\n",
    "\n",
    "**The advantages are enormous, thou.** \n",
    "\n",
    "First, it is much easier to program in a high-level language. Programs written in a high-level \n",
    "language take less time to write, they are shorter and easier to read, and they are more likely \n",
    "to be correct. \n",
    "Second, high-level languages are portable, meaning that they can run on \n",
    "different kinds of computers with few or no modifications. \n",
    "Low-level programs can run on only one kind of computer and have to be rewritten to run on another.\n",
    "\n",
    "Due to these advantages, almost all programs are written in high-level languages. \n",
    "Low-level languages are used only for a few specialized applications.\n",
    "\n",
    "Two kinds of programs process high-level languages into low-level languages: **interpreters** and \n",
    "**compilers**. \n",
    "\n",
    "(1) An interpreter reads a high-level program and executes it, meaning that it does what the program says. \n",
    "It processes the program a little at a time, alternately reading lines and performing computations. \n",
    "\n",
    "![The structure of an interpreter.](../images/interpreter.png)\n",
    "\n",
    "(2) A compiler reads the program and translates it completely before the program starts running. \n",
    "In this context, the high-level program is called the **source code**, and the translated program \n",
    "is called the **object code** or the **executable**. \n",
    "Once a program is compiled, you can execute it repeatedly without further translation. \n",
    "\n",
    "![The process of compilation.](../images/compiler.png)\n",
    "\n",
    "**Python** is considered an _interpreted language_ because Python programs are executed by an interpreter. \n",
    "There are two ways to use the interpreter: _interactive mode_ and _script mode_. \n",
    "\n",
    "In interactive mode, you type Python programs and the interpreter displays the result:\n",
    "\n",
    "```python\n",
    "\n",
    ">>> 1 + 1\n",
    "2\n",
    "```\n",
    "\n",
    "The chevron, `>>>`, is the prompt the interpreter uses to indicate that it is ready. \n",
    "\n",
    "If you type `1 + 1`, the interpreter replies `2`.\n",
    "\n",
    "**Alternatively**, you can store code in a file and use the interpreter to execute the contents of the file, which is called a **script**. \n",
    "\n",
    "By convention, Python scripts have names that end with `.py`."
   ]
  },
  {
   "cell_type": "markdown",
   "metadata": {},
   "source": [
    "To execute the script, you have to tell the interpreter the name of the file. \n",
    "\n",
    "If you have a script named `dinsdale.py` and you are working in a **UNIX** command window, \n",
    "you type `python dinsdale.py`. \n",
    "\n",
    "In other development environments, the details of executing scripts are different. \n",
    "\n",
    "You can find instructions for your environment at the Python web site [http://python.org]().\n",
    "\n",
    "Working in **interactive mode** is convenient for testing small pieces of code because you can type and execute them immediately. \n",
    "But for anything more than a few lines, you should save your code as a script so you can modify and execute it in the future."
   ]
  },
  {
   "cell_type": "markdown",
   "metadata": {},
   "source": [
    "# What is a Program?"
   ]
  },
  {
   "cell_type": "markdown",
   "metadata": {},
   "source": [
    "> A program is a sequence of instructions that specifies how to perform a computation."
   ]
  },
  {
   "cell_type": "markdown",
   "metadata": {},
   "source": [
    "The computation might be something mathematical, such as solving a system of equations or finding the roots of a polynomial, but it can also be a symbolic computation, such as searching and replacing text in a document or (strangely enough) compiling a program.\n",
    "\n",
    "The details look different in different languages, but a few basic instructions appear in just about every language:"
   ]
  },
  {
   "cell_type": "markdown",
   "metadata": {},
   "source": [
    "- _input_: Get data from the keyboard, a file, or some other device.\n",
    "- _output_: Display data on the screen or send data to a file or other device.\n",
    "- _math_: Perform basic mathematical operations like addition and multiplication.\n",
    "- _conditional execution_: Check for certain conditions and execute the appropriate code.\n",
    "- _repetition_: Perform some action repeatedly, usually with some variation."
   ]
  },
  {
   "cell_type": "markdown",
   "metadata": {},
   "source": [
    "Believe it or not, that’s **pretty much all there is to it**. \n",
    "\n",
    "Every program you’ve ever used, no matter how complicated, is made up of instructions that look pretty much like these. \n",
    "\n",
    "So you can think of programming as: \n",
    "\n",
    "> the process of breaking a large, complex task into smaller and smaller subtasks until the subtasks are simple enough to be performed with one of these basic instructions."
   ]
  },
  {
   "cell_type": "markdown",
   "metadata": {},
   "source": [
    "That may be a little vague, but we will come back to this topic when we talk about **algorithms**."
   ]
  },
  {
   "cell_type": "markdown",
   "metadata": {},
   "source": [
    "# What is Debugging?"
   ]
  },
  {
   "cell_type": "markdown",
   "metadata": {},
   "source": [
    "Programming is **error-prone**. \n",
    "\n",
    "For whimsical reasons, programming errors are called **bugs** and the process of tracking them down is called _debugging_.\n",
    "\n",
    "Three kinds of errors can occur in a program: **syntax errors**, **runtime errors**, and \n",
    "**semantic errors**. \n",
    "\n",
    "It is useful to distinguish between them in order to track them down more quickly."
   ]
  },
  {
   "cell_type": "markdown",
   "metadata": {},
   "source": [
    "## Syntax Errors"
   ]
  },
  {
   "cell_type": "markdown",
   "metadata": {},
   "source": [
    "Python can only execute a program if the syntax is correct; otherwise, the interpreter displays an error message. \n",
    "\n",
    "**Syntax** refers to the structure of a program and the rules about that structure.\n",
    "\n",
    "For example, parentheses have to come in matching pairs, so `(1 + 2)` is legal, \n",
    "but `8)` is a **syntax error**.\n",
    "\n",
    "In English readers can tolerate most syntax errors, which is why we can read the poetry of \n",
    "_e. e. cummings without spewing error messages_.\n",
    "**Python is not so forgiving**. If there is a single syntax error anywhere in your program, Python will display an error message and quit, and you will not be able to run your program. \n",
    "As you gain experience, you will make fewer errors and find them faster."
   ]
  },
  {
   "cell_type": "markdown",
   "metadata": {},
   "source": [
    "## Runtime Errors"
   ]
  },
  {
   "cell_type": "markdown",
   "metadata": {},
   "source": [
    "The second type of error is a runtime error, so called because the error does not appear until after the program has started running. \n",
    "\n",
    "These errors are also called **exceptions** because they usually indicate that something exceptional (and bad) has happened.\n",
    "\n",
    "Runtime errors are rare in the simple programs you will see in the first few chapters, so it might be a while before you encounter one."
   ]
  },
  {
   "cell_type": "markdown",
   "metadata": {},
   "source": [
    "## Semantic Errors"
   ]
  },
  {
   "cell_type": "markdown",
   "metadata": {},
   "source": [
    "The third type of error is the **semantic error**. \n",
    "\n",
    "If there is a semantic error in your program, it will run successfully in the sense that the computer will not generate any error messages, but it will not do the right thing. \n",
    "It will do something else. Specifically, it will do what you told it to do.\n",
    "\n",
    "The problem is that the program you wrote is not the program you wanted to write. The meaning of the program (its semantics) is wrong. \n",
    "\n",
    "Identifying semantic errors can be tricky because it requires you to work backward by looking at the output of the program and trying to figure out what it is doing."
   ]
  },
  {
   "cell_type": "markdown",
   "metadata": {},
   "source": [
    "# The First Program"
   ]
  },
  {
   "cell_type": "markdown",
   "metadata": {},
   "source": [
    "Traditionally, the first program you write in a new language is called `“Hello, World!”` because all it does is display the words _“Hello, World!”_. \n",
    "\n",
    "In Python, it looks like this:\n",
    "\n",
    "```python\n",
    "\n",
    "print(\"Hello World!\")\n",
    "```\n",
    "\n",
    "The quotation marks in the program mark the beginning and end of the text to be displayed; they don’t appear in the result.\n",
    "\n",
    "The parentheses indicate that `print` is a **function**. (We'll get to to functions later)."
   ]
  },
  {
   "cell_type": "markdown",
   "metadata": {},
   "source": [
    "# What we learnt so far (a.k.a. Glossary)"
   ]
  },
  {
   "cell_type": "markdown",
   "metadata": {},
   "source": [
    "- Problem solving:\n",
    "The process of formulating a problem, finding a solution, and expressing the solu­ tion.\n",
    "- High-level language:\n",
    "A programming language like Python that is designed to be easy for humans to read and write.\n",
    "- Low-level language:\n",
    "A programming language that is designed to be easy for a computer to execute; also called “machine language” or “assembly language.”\n",
    "- Portability:\n",
    "A property of a program that can run on more than one kind of computer.\n",
    "- Interpret:\n",
    "To execute a program in a high-level language by translating it one line at a time.\n",
    "- Compile:\n",
    "To translate a program written in a high-level language into a low-level language all at once, in preparation for later execution.\n",
    "- Source code:\n",
    "A program written in a high-level language before being compiled.\n",
    "- Object code:\n",
    "The output of the compiler after it translates the program.\n",
    "- Executable:\n",
    "Another name for object code that is ready to be executed.\n",
    "- Prompt:\n",
    "Characters displayed by the interpreter to indicate that it is ready to take input from the user.\n",
    "- Script:\n",
    "A program stored in a file (usually one that will be interpreted).\n",
    "- Interactive mode:\n",
    "A way of using the Python interpreter by typing commands and expressions at the prompt."
   ]
  },
  {
   "cell_type": "markdown",
   "metadata": {},
   "source": [
    "- Script mode:\n",
    "A way of using the Python interpreter to read and execute statements in a script.\n",
    "- Program:\n",
    "A set of instructions that specifies a computation.\n",
    "- Algorithm:\n",
    "A general process for solving a category of problems.\n",
    "- Bug:\n",
    "An error in a program.\n",
    "- Debugging:\n",
    "The process of finding and removing any of the three kinds of programming errors.\n",
    "- Syntax:\n",
    "The structure of a program.\n",
    "- Syntax error:\n",
    "An error in a program that makes it impossible to parse (and therefore impossible to interpret).\n",
    "- Exception:\n",
    "An error that is detected while the program is running.\n",
    "- Semantics:\n",
    "The meaning of a program.\n",
    "- Semantic error:\n",
    "An error in a program that makes it do something other than what the programmer intended.\n",
    "- Parse:\n",
    "To examine a program and analyze the syntactic structure.\n",
    "Print function:\n",
    "A special function that causes the Python interpreter to display a value on the screen."
   ]
  },
  {
   "cell_type": "markdown",
   "metadata": {},
   "source": [
    "# Exercises"
   ]
  },
  {
   "cell_type": "markdown",
   "metadata": {},
   "source": [
    "> **Ex. 1.1**: Start the Python interpreter and type `help()` to start the online help utility. \n",
    "> Or you can type `help('print')` to get information about the print function.\n",
    "> \n",
    "> If this example doesn’t work, you may need to install additional Python documentation or set an environment variable; the details depend on your operating system and version of Python."
   ]
  },
  {
   "cell_type": "markdown",
   "metadata": {},
   "source": [
    "> **Ex 1.2**: Start the Python interpreter and use it as a calculator. \n",
    "> Python’s syntax for math operations is almost the same as standard mathematical notation. \n",
    "> For example, the symbols `+`, `-` and `/` denote addition, subtraction and division, as you would expect. The symbol for multiplication is `*`."
   ]
  },
  {
   "cell_type": "markdown",
   "metadata": {},
   "source": [
    "> **Ex 1.3**: If you run a `10` kilometer race in `43` minutes `30` seconds, what is your average time per mile? What is your average speed in miles per hour? (Hint: there are `1.61` kilometers in a mile)."
   ]
  }
 ],
 "metadata": {
  "kernelspec": {
   "display_name": "Python 3.7 (WebValley2019)",
   "language": "python",
   "name": "webvalley19"
  },
  "language_info": {
   "codemirror_mode": {
    "name": "ipython",
    "version": 3
   },
   "file_extension": ".py",
   "mimetype": "text/x-python",
   "name": "python",
   "nbconvert_exporter": "python",
   "pygments_lexer": "ipython3",
   "version": "3.6.7"
  }
 },
 "nbformat": 4,
 "nbformat_minor": 2
}
